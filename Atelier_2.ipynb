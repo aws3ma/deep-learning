{
  "nbformat": 4,
  "nbformat_minor": 0,
  "metadata": {
    "colab": {
      "provenance": [],
      "authorship_tag": "ABX9TyN0u70XD8AaTsJuPUlsPsvy",
      "include_colab_link": true
    },
    "kernelspec": {
      "name": "python3",
      "display_name": "Python 3"
    },
    "language_info": {
      "name": "python"
    },
    "accelerator": "GPU",
    "gpuClass": "standard"
  },
  "cells": [
    {
      "cell_type": "markdown",
      "metadata": {
        "id": "view-in-github",
        "colab_type": "text"
      },
      "source": [
        "<a href=\"https://colab.research.google.com/github/aws3ma/deep-learning/blob/main/Atelier_2.ipynb\" target=\"_parent\"><img src=\"https://colab.research.google.com/assets/colab-badge.svg\" alt=\"Open In Colab\"/></a>"
      ]
    },
    {
      "cell_type": "code",
      "execution_count": 23,
      "metadata": {
        "id": "PEOBMX7owULa"
      },
      "outputs": [],
      "source": [
        "import tensorflow as tf\n",
        "from tensorflow import keras\n",
        "from keras import optimizers\n",
        "from keras.models import Sequential, load_model\n",
        "from keras.layers import Dense, Dropout, Activation\n",
        "from keras.utils import to_categorical\n",
        "from keras.datasets import mnist\n",
        "import numpy as np\n",
        "import matplotlib.pyplot as plt"
      ]
    },
    {
      "cell_type": "code",
      "source": [
        "def plot_conf_matrix(y_pred,y_test):\n",
        "  import numpy as np\n",
        "  import seaborn as sn\n",
        "  import matplotlib.pyplot as plt\n",
        "  y_prediction_labels = [np.argmax(i) for i in y_pred]\n",
        "  y_test_labels = [np.argmax(i) for i in y_test]\n",
        "  cm = tf.math.confusion_matrix(labels=y_test_labels, predictions=y_prediction_labels)\n",
        "  plt.figure(figsize = (10,10))\n",
        "  sn.heatmap(cm, annot=True, fmt='d')\n",
        "  plt.xlabel('Predicted')\n",
        "  plt.ylabel('Truth')"
      ],
      "metadata": {
        "id": "EpKDLIIr9KYK"
      },
      "execution_count": 3,
      "outputs": []
    },
    {
      "cell_type": "code",
      "source": [
        "def plot_accuracy_and_loss(history):\n",
        "  import matplotlib.pyplot as plt\n",
        "  fig, (ax1,ax2) = plt.subplots(nrows=1, ncols=2, figsize=(15, 5))\n",
        "  ax1.plot(history.history['accuracy'])\n",
        "  ax1.plot(history.history['val_accuracy'])\n",
        "  ax1.set_title(\"Model accuracy\")\n",
        "  ax1.set_ylabel(\"Accuracy\")\n",
        "  ax1.set_xlabel(\"Epochs\")\n",
        "  ax1.legend(['train','validation'],loc='lower right')\n",
        "\n",
        "  ax2.plot(history.history['loss'])\n",
        "  ax2.plot(history.history['val_loss'])\n",
        "  ax2.set_title(\"Model loss\")\n",
        "  ax2.set_ylabel(\"Loss\")\n",
        "  ax2.set_xlabel(\"Epochs\")\n",
        "  ax2.legend(['train','validation'],loc='upper right')\n",
        "  fig.show()"
      ],
      "metadata": {
        "id": "-__AtpicAxSd"
      },
      "execution_count": 26,
      "outputs": []
    },
    {
      "cell_type": "code",
      "source": [
        "(x_train,y_train),(x_test,y_test)= mnist.load_data()"
      ],
      "metadata": {
        "id": "vMzuNKkIw7bH"
      },
      "execution_count": 4,
      "outputs": []
    },
    {
      "cell_type": "code",
      "source": [
        "x_train.shape"
      ],
      "metadata": {
        "colab": {
          "base_uri": "https://localhost:8080/"
        },
        "id": "pFqjwcrKxfSt",
        "outputId": "a47c327d-6e4d-4fbe-cbf2-8df0282f06b8"
      },
      "execution_count": 5,
      "outputs": [
        {
          "output_type": "execute_result",
          "data": {
            "text/plain": [
              "(60000, 28, 28)"
            ]
          },
          "metadata": {},
          "execution_count": 5
        }
      ]
    },
    {
      "cell_type": "code",
      "source": [
        "y_train.shape"
      ],
      "metadata": {
        "colab": {
          "base_uri": "https://localhost:8080/"
        },
        "id": "P_PjYqIGxpnD",
        "outputId": "03bd10dd-a8e1-4778-c856-9e8b40b97c51"
      },
      "execution_count": 6,
      "outputs": [
        {
          "output_type": "execute_result",
          "data": {
            "text/plain": [
              "(60000,)"
            ]
          },
          "metadata": {},
          "execution_count": 6
        }
      ]
    },
    {
      "cell_type": "code",
      "source": [
        "x_test.shape"
      ],
      "metadata": {
        "colab": {
          "base_uri": "https://localhost:8080/"
        },
        "id": "ZfPnHkxUxq3Y",
        "outputId": "29f4a0f3-f95f-4136-b197-e032b70e9c96"
      },
      "execution_count": 7,
      "outputs": [
        {
          "output_type": "execute_result",
          "data": {
            "text/plain": [
              "(10000, 28, 28)"
            ]
          },
          "metadata": {},
          "execution_count": 7
        }
      ]
    },
    {
      "cell_type": "code",
      "source": [
        "y_test.shape"
      ],
      "metadata": {
        "colab": {
          "base_uri": "https://localhost:8080/"
        },
        "id": "mvmte409xswf",
        "outputId": "a3df2547-de48-4e88-98bd-4212b7014a53"
      },
      "execution_count": 8,
      "outputs": [
        {
          "output_type": "execute_result",
          "data": {
            "text/plain": [
              "(10000,)"
            ]
          },
          "metadata": {},
          "execution_count": 8
        }
      ]
    },
    {
      "cell_type": "code",
      "source": [
        "x_train = x_train.reshape(60000,784)"
      ],
      "metadata": {
        "id": "McsWhnlBxtyu"
      },
      "execution_count": 9,
      "outputs": []
    },
    {
      "cell_type": "code",
      "source": [
        "x_test = x_test.reshape(10000,784)"
      ],
      "metadata": {
        "id": "gujhzhajzGnr"
      },
      "execution_count": 10,
      "outputs": []
    },
    {
      "cell_type": "code",
      "source": [
        "x_train = x_train.astype('float32')\n",
        "x_test = x_test.astype('float32')"
      ],
      "metadata": {
        "id": "4KVRGaFOzMMi"
      },
      "execution_count": 11,
      "outputs": []
    },
    {
      "cell_type": "code",
      "source": [
        "x_train /=255\n",
        "x_test /=255 "
      ],
      "metadata": {
        "id": "Xa6Gl7NZzcN1"
      },
      "execution_count": 12,
      "outputs": []
    },
    {
      "cell_type": "code",
      "source": [
        "nb_classes = 10\n",
        "print(\"Dimension avant one_hot_encoder\", y_train.shape)"
      ],
      "metadata": {
        "colab": {
          "base_uri": "https://localhost:8080/"
        },
        "id": "oM7OB-z9zg1W",
        "outputId": "b03eccad-6be5-47d4-b4cf-afaeb67f094e"
      },
      "execution_count": 13,
      "outputs": [
        {
          "output_type": "stream",
          "name": "stdout",
          "text": [
            "Dimension avant one_hot_encoder (60000,)\n"
          ]
        }
      ]
    },
    {
      "cell_type": "code",
      "source": [
        "y_train = to_categorical(y_train,nb_classes)\n",
        "y_test = to_categorical(y_test,nb_classes)"
      ],
      "metadata": {
        "id": "nrluNQY_zsgt"
      },
      "execution_count": 14,
      "outputs": []
    },
    {
      "cell_type": "code",
      "source": [
        "print('Dimension apres one-hot encoder', y_train.shape)"
      ],
      "metadata": {
        "colab": {
          "base_uri": "https://localhost:8080/"
        },
        "id": "retplpkl3V3w",
        "outputId": "3641546b-d9f7-422c-9b7e-88d916bc2c37"
      },
      "execution_count": 15,
      "outputs": [
        {
          "output_type": "stream",
          "name": "stdout",
          "text": [
            "Dimension apres one-hot encoder (60000, 10)\n"
          ]
        }
      ]
    },
    {
      "cell_type": "code",
      "source": [
        "model=Sequential()\n",
        "model.add(Dense(400, input_shape=(784,)))\n",
        "model.add(Activation('relu'))\n",
        "\n",
        "model.add(Dense(400))\n",
        "model.add(Activation('relu'))\n",
        "\n",
        "model.add(Dense(10))\n",
        "model.add(Activation('softmax'))"
      ],
      "metadata": {
        "id": "cKeysGhm1j7R"
      },
      "execution_count": null,
      "outputs": []
    },
    {
      "cell_type": "code",
      "source": [
        "model.compile(loss='categorical_crossentropy', metrics=['accuracy'], optimizer='adam')"
      ],
      "metadata": {
        "id": "kIQjBy6l145Y"
      },
      "execution_count": null,
      "outputs": []
    },
    {
      "cell_type": "code",
      "source": [
        "print('Dimension de X_train',x_train.shape)\n",
        "print('Dimension de Y_train',y_train.shape)\n",
        "print('Dimension de X_test',x_test.shape)\n",
        "print('Dimension de Y_test',y_test.shape)"
      ],
      "metadata": {
        "colab": {
          "base_uri": "https://localhost:8080/"
        },
        "id": "PwOKlTa92j-y",
        "outputId": "8dfc1074-6256-408f-f28a-a39bcf43c3da"
      },
      "execution_count": 14,
      "outputs": [
        {
          "output_type": "stream",
          "name": "stdout",
          "text": [
            "Dimension de X_train (60000, 784)\n",
            "Dimension de Y_train (60000, 10)\n",
            "Dimension de X_test (10000, 784)\n",
            "Dimension de Y_test (10000, 10)\n"
          ]
        }
      ]
    },
    {
      "cell_type": "code",
      "source": [
        "history= model.fit(x_train, y_train,\n",
        "                batch_size=100,\n",
        "                epochs=100,\n",
        "                verbose=2,\n",
        "                validation_data=(x_test,y_test))"
      ],
      "metadata": {
        "colab": {
          "base_uri": "https://localhost:8080/"
        },
        "id": "XHpE5LGs2LUZ",
        "outputId": "c0bff0bb-3f61-4abe-840a-3b42e4cfeb94"
      },
      "execution_count": null,
      "outputs": [
        {
          "output_type": "stream",
          "name": "stdout",
          "text": [
            "Epoch 1/100\n",
            "600/600 - 10s - loss: 0.2194 - accuracy: 0.9359 - val_loss: 0.1046 - val_accuracy: 0.9656 - 10s/epoch - 17ms/step\n",
            "Epoch 2/100\n",
            "600/600 - 2s - loss: 0.0799 - accuracy: 0.9763 - val_loss: 0.0777 - val_accuracy: 0.9757 - 2s/epoch - 3ms/step\n",
            "Epoch 3/100\n",
            "600/600 - 2s - loss: 0.0519 - accuracy: 0.9842 - val_loss: 0.0725 - val_accuracy: 0.9766 - 2s/epoch - 3ms/step\n",
            "Epoch 4/100\n",
            "600/600 - 2s - loss: 0.0384 - accuracy: 0.9873 - val_loss: 0.0736 - val_accuracy: 0.9783 - 2s/epoch - 3ms/step\n",
            "Epoch 5/100\n",
            "600/600 - 2s - loss: 0.0294 - accuracy: 0.9907 - val_loss: 0.0693 - val_accuracy: 0.9793 - 2s/epoch - 4ms/step\n",
            "Epoch 6/100\n",
            "600/600 - 2s - loss: 0.0246 - accuracy: 0.9919 - val_loss: 0.0842 - val_accuracy: 0.9769 - 2s/epoch - 3ms/step\n",
            "Epoch 7/100\n",
            "600/600 - 2s - loss: 0.0192 - accuracy: 0.9937 - val_loss: 0.0786 - val_accuracy: 0.9797 - 2s/epoch - 3ms/step\n",
            "Epoch 8/100\n",
            "600/600 - 2s - loss: 0.0169 - accuracy: 0.9948 - val_loss: 0.0844 - val_accuracy: 0.9793 - 2s/epoch - 3ms/step\n",
            "Epoch 9/100\n",
            "600/600 - 2s - loss: 0.0167 - accuracy: 0.9943 - val_loss: 0.0829 - val_accuracy: 0.9798 - 2s/epoch - 3ms/step\n",
            "Epoch 10/100\n",
            "600/600 - 2s - loss: 0.0144 - accuracy: 0.9952 - val_loss: 0.0805 - val_accuracy: 0.9817 - 2s/epoch - 3ms/step\n",
            "Epoch 11/100\n",
            "600/600 - 2s - loss: 0.0094 - accuracy: 0.9969 - val_loss: 0.0977 - val_accuracy: 0.9790 - 2s/epoch - 3ms/step\n",
            "Epoch 12/100\n",
            "600/600 - 2s - loss: 0.0127 - accuracy: 0.9954 - val_loss: 0.1103 - val_accuracy: 0.9752 - 2s/epoch - 4ms/step\n",
            "Epoch 13/100\n",
            "600/600 - 2s - loss: 0.0112 - accuracy: 0.9962 - val_loss: 0.0895 - val_accuracy: 0.9815 - 2s/epoch - 3ms/step\n",
            "Epoch 14/100\n",
            "600/600 - 2s - loss: 0.0103 - accuracy: 0.9966 - val_loss: 0.0859 - val_accuracy: 0.9812 - 2s/epoch - 3ms/step\n",
            "Epoch 15/100\n",
            "600/600 - 2s - loss: 0.0061 - accuracy: 0.9983 - val_loss: 0.0993 - val_accuracy: 0.9813 - 2s/epoch - 3ms/step\n",
            "Epoch 16/100\n",
            "600/600 - 2s - loss: 0.0112 - accuracy: 0.9967 - val_loss: 0.1009 - val_accuracy: 0.9778 - 2s/epoch - 3ms/step\n",
            "Epoch 17/100\n",
            "600/600 - 2s - loss: 0.0108 - accuracy: 0.9961 - val_loss: 0.0943 - val_accuracy: 0.9813 - 2s/epoch - 3ms/step\n",
            "Epoch 18/100\n",
            "600/600 - 2s - loss: 0.0092 - accuracy: 0.9973 - val_loss: 0.0979 - val_accuracy: 0.9821 - 2s/epoch - 3ms/step\n",
            "Epoch 19/100\n",
            "600/600 - 2s - loss: 0.0039 - accuracy: 0.9988 - val_loss: 0.1249 - val_accuracy: 0.9779 - 2s/epoch - 4ms/step\n",
            "Epoch 20/100\n",
            "600/600 - 2s - loss: 0.0091 - accuracy: 0.9973 - val_loss: 0.1023 - val_accuracy: 0.9795 - 2s/epoch - 3ms/step\n",
            "Epoch 21/100\n",
            "600/600 - 2s - loss: 0.0063 - accuracy: 0.9980 - val_loss: 0.1151 - val_accuracy: 0.9821 - 2s/epoch - 3ms/step\n",
            "Epoch 22/100\n",
            "600/600 - 2s - loss: 0.0105 - accuracy: 0.9970 - val_loss: 0.1062 - val_accuracy: 0.9817 - 2s/epoch - 3ms/step\n",
            "Epoch 23/100\n",
            "600/600 - 2s - loss: 0.0044 - accuracy: 0.9987 - val_loss: 0.0970 - val_accuracy: 0.9837 - 2s/epoch - 3ms/step\n",
            "Epoch 24/100\n",
            "600/600 - 2s - loss: 0.0085 - accuracy: 0.9975 - val_loss: 0.1061 - val_accuracy: 0.9831 - 2s/epoch - 3ms/step\n",
            "Epoch 25/100\n",
            "600/600 - 2s - loss: 0.0062 - accuracy: 0.9980 - val_loss: 0.1328 - val_accuracy: 0.9794 - 2s/epoch - 3ms/step\n",
            "Epoch 26/100\n",
            "600/600 - 2s - loss: 0.0094 - accuracy: 0.9973 - val_loss: 0.1096 - val_accuracy: 0.9822 - 2s/epoch - 4ms/step\n",
            "Epoch 27/100\n",
            "600/600 - 2s - loss: 0.0029 - accuracy: 0.9990 - val_loss: 0.1074 - val_accuracy: 0.9838 - 2s/epoch - 3ms/step\n",
            "Epoch 28/100\n",
            "600/600 - 2s - loss: 0.0034 - accuracy: 0.9991 - val_loss: 0.1240 - val_accuracy: 0.9814 - 2s/epoch - 3ms/step\n",
            "Epoch 29/100\n",
            "600/600 - 2s - loss: 0.0094 - accuracy: 0.9971 - val_loss: 0.1324 - val_accuracy: 0.9814 - 2s/epoch - 3ms/step\n",
            "Epoch 30/100\n",
            "600/600 - 2s - loss: 0.0035 - accuracy: 0.9988 - val_loss: 0.0941 - val_accuracy: 0.9847 - 2s/epoch - 3ms/step\n",
            "Epoch 31/100\n",
            "600/600 - 2s - loss: 0.0075 - accuracy: 0.9978 - val_loss: 0.1415 - val_accuracy: 0.9797 - 2s/epoch - 3ms/step\n",
            "Epoch 32/100\n",
            "600/600 - 2s - loss: 0.0057 - accuracy: 0.9983 - val_loss: 0.1213 - val_accuracy: 0.9834 - 2s/epoch - 4ms/step\n",
            "Epoch 33/100\n",
            "600/600 - 2s - loss: 0.0063 - accuracy: 0.9984 - val_loss: 0.1200 - val_accuracy: 0.9813 - 2s/epoch - 3ms/step\n",
            "Epoch 34/100\n",
            "600/600 - 2s - loss: 0.0047 - accuracy: 0.9986 - val_loss: 0.1191 - val_accuracy: 0.9831 - 2s/epoch - 3ms/step\n",
            "Epoch 35/100\n",
            "600/600 - 2s - loss: 0.0033 - accuracy: 0.9993 - val_loss: 0.1214 - val_accuracy: 0.9838 - 2s/epoch - 3ms/step\n",
            "Epoch 36/100\n",
            "600/600 - 2s - loss: 0.0060 - accuracy: 0.9983 - val_loss: 0.1302 - val_accuracy: 0.9806 - 2s/epoch - 3ms/step\n",
            "Epoch 37/100\n",
            "600/600 - 2s - loss: 0.0055 - accuracy: 0.9984 - val_loss: 0.1310 - val_accuracy: 0.9819 - 2s/epoch - 3ms/step\n",
            "Epoch 38/100\n",
            "600/600 - 2s - loss: 0.0044 - accuracy: 0.9987 - val_loss: 0.1188 - val_accuracy: 0.9836 - 2s/epoch - 3ms/step\n",
            "Epoch 39/100\n",
            "600/600 - 2s - loss: 0.0031 - accuracy: 0.9990 - val_loss: 0.1419 - val_accuracy: 0.9817 - 2s/epoch - 4ms/step\n",
            "Epoch 40/100\n",
            "600/600 - 2s - loss: 0.0052 - accuracy: 0.9984 - val_loss: 0.1391 - val_accuracy: 0.9835 - 2s/epoch - 3ms/step\n",
            "Epoch 41/100\n",
            "600/600 - 2s - loss: 0.0061 - accuracy: 0.9982 - val_loss: 0.1620 - val_accuracy: 0.9790 - 2s/epoch - 3ms/step\n",
            "Epoch 42/100\n",
            "600/600 - 2s - loss: 0.0085 - accuracy: 0.9977 - val_loss: 0.1316 - val_accuracy: 0.9840 - 2s/epoch - 3ms/step\n",
            "Epoch 43/100\n",
            "600/600 - 2s - loss: 0.0025 - accuracy: 0.9993 - val_loss: 0.1489 - val_accuracy: 0.9821 - 2s/epoch - 3ms/step\n",
            "Epoch 44/100\n",
            "600/600 - 2s - loss: 0.0042 - accuracy: 0.9987 - val_loss: 0.1292 - val_accuracy: 0.9842 - 2s/epoch - 3ms/step\n",
            "Epoch 45/100\n",
            "600/600 - 2s - loss: 0.0051 - accuracy: 0.9984 - val_loss: 0.1282 - val_accuracy: 0.9841 - 2s/epoch - 3ms/step\n",
            "Epoch 46/100\n",
            "600/600 - 2s - loss: 0.0050 - accuracy: 0.9987 - val_loss: 0.1315 - val_accuracy: 0.9837 - 2s/epoch - 4ms/step\n",
            "Epoch 47/100\n",
            "600/600 - 2s - loss: 0.0015 - accuracy: 0.9997 - val_loss: 0.1534 - val_accuracy: 0.9814 - 2s/epoch - 3ms/step\n",
            "Epoch 48/100\n",
            "600/600 - 2s - loss: 0.0060 - accuracy: 0.9983 - val_loss: 0.1411 - val_accuracy: 0.9828 - 2s/epoch - 3ms/step\n",
            "Epoch 49/100\n",
            "600/600 - 2s - loss: 0.0047 - accuracy: 0.9987 - val_loss: 0.1746 - val_accuracy: 0.9814 - 2s/epoch - 3ms/step\n",
            "Epoch 50/100\n",
            "600/600 - 2s - loss: 0.0044 - accuracy: 0.9988 - val_loss: 0.1601 - val_accuracy: 0.9821 - 2s/epoch - 3ms/step\n",
            "Epoch 51/100\n",
            "600/600 - 2s - loss: 0.0045 - accuracy: 0.9987 - val_loss: 0.1512 - val_accuracy: 0.9827 - 2s/epoch - 3ms/step\n",
            "Epoch 52/100\n",
            "600/600 - 2s - loss: 0.0056 - accuracy: 0.9985 - val_loss: 0.1783 - val_accuracy: 0.9799 - 2s/epoch - 3ms/step\n",
            "Epoch 53/100\n",
            "600/600 - 2s - loss: 0.0037 - accuracy: 0.9990 - val_loss: 0.1277 - val_accuracy: 0.9843 - 2s/epoch - 4ms/step\n",
            "Epoch 54/100\n",
            "600/600 - 2s - loss: 0.0021 - accuracy: 0.9994 - val_loss: 0.1417 - val_accuracy: 0.9833 - 2s/epoch - 3ms/step\n",
            "Epoch 55/100\n",
            "600/600 - 2s - loss: 0.0035 - accuracy: 0.9991 - val_loss: 0.1477 - val_accuracy: 0.9830 - 2s/epoch - 3ms/step\n",
            "Epoch 56/100\n",
            "600/600 - 2s - loss: 0.0066 - accuracy: 0.9984 - val_loss: 0.1911 - val_accuracy: 0.9804 - 2s/epoch - 3ms/step\n",
            "Epoch 57/100\n",
            "600/600 - 2s - loss: 0.0040 - accuracy: 0.9987 - val_loss: 0.1490 - val_accuracy: 0.9830 - 2s/epoch - 3ms/step\n",
            "Epoch 58/100\n",
            "600/600 - 2s - loss: 0.0025 - accuracy: 0.9994 - val_loss: 0.1450 - val_accuracy: 0.9843 - 2s/epoch - 3ms/step\n",
            "Epoch 59/100\n",
            "600/600 - 2s - loss: 0.0063 - accuracy: 0.9988 - val_loss: 0.1560 - val_accuracy: 0.9833 - 2s/epoch - 3ms/step\n",
            "Epoch 60/100\n",
            "600/600 - 2s - loss: 0.0039 - accuracy: 0.9989 - val_loss: 0.1380 - val_accuracy: 0.9849 - 2s/epoch - 3ms/step\n",
            "Epoch 61/100\n",
            "600/600 - 2s - loss: 0.0024 - accuracy: 0.9993 - val_loss: 0.1557 - val_accuracy: 0.9846 - 2s/epoch - 3ms/step\n",
            "Epoch 62/100\n",
            "600/600 - 2s - loss: 0.0027 - accuracy: 0.9994 - val_loss: 0.1628 - val_accuracy: 0.9826 - 2s/epoch - 3ms/step\n",
            "Epoch 63/100\n",
            "600/600 - 2s - loss: 0.0054 - accuracy: 0.9989 - val_loss: 0.1565 - val_accuracy: 0.9839 - 2s/epoch - 3ms/step\n",
            "Epoch 64/100\n",
            "600/600 - 2s - loss: 0.0076 - accuracy: 0.9983 - val_loss: 0.1632 - val_accuracy: 0.9835 - 2s/epoch - 3ms/step\n",
            "Epoch 65/100\n",
            "600/600 - 2s - loss: 0.0028 - accuracy: 0.9992 - val_loss: 0.1466 - val_accuracy: 0.9827 - 2s/epoch - 3ms/step\n",
            "Epoch 66/100\n",
            "600/600 - 2s - loss: 0.0023 - accuracy: 0.9995 - val_loss: 0.1518 - val_accuracy: 0.9839 - 2s/epoch - 4ms/step\n",
            "Epoch 67/100\n",
            "600/600 - 2s - loss: 0.0021 - accuracy: 0.9994 - val_loss: 0.1540 - val_accuracy: 0.9826 - 2s/epoch - 3ms/step\n",
            "Epoch 68/100\n",
            "600/600 - 2s - loss: 0.0036 - accuracy: 0.9992 - val_loss: 0.1914 - val_accuracy: 0.9806 - 2s/epoch - 3ms/step\n",
            "Epoch 69/100\n",
            "600/600 - 2s - loss: 0.0042 - accuracy: 0.9990 - val_loss: 0.1624 - val_accuracy: 0.9824 - 2s/epoch - 3ms/step\n",
            "Epoch 70/100\n",
            "600/600 - 2s - loss: 0.0051 - accuracy: 0.9987 - val_loss: 0.2009 - val_accuracy: 0.9801 - 2s/epoch - 3ms/step\n",
            "Epoch 71/100\n",
            "600/600 - 2s - loss: 0.0051 - accuracy: 0.9987 - val_loss: 0.1840 - val_accuracy: 0.9809 - 2s/epoch - 3ms/step\n",
            "Epoch 72/100\n",
            "600/600 - 2s - loss: 0.0030 - accuracy: 0.9993 - val_loss: 0.1499 - val_accuracy: 0.9844 - 2s/epoch - 3ms/step\n",
            "Epoch 73/100\n",
            "600/600 - 2s - loss: 4.5882e-04 - accuracy: 0.9999 - val_loss: 0.1499 - val_accuracy: 0.9840 - 2s/epoch - 4ms/step\n",
            "Epoch 74/100\n",
            "600/600 - 2s - loss: 3.8929e-05 - accuracy: 1.0000 - val_loss: 0.1501 - val_accuracy: 0.9849 - 2s/epoch - 3ms/step\n",
            "Epoch 75/100\n",
            "600/600 - 2s - loss: 3.5158e-06 - accuracy: 1.0000 - val_loss: 0.1505 - val_accuracy: 0.9852 - 2s/epoch - 3ms/step\n",
            "Epoch 76/100\n",
            "600/600 - 2s - loss: 2.2003e-06 - accuracy: 1.0000 - val_loss: 0.1506 - val_accuracy: 0.9850 - 2s/epoch - 3ms/step\n",
            "Epoch 77/100\n",
            "600/600 - 2s - loss: 1.6561e-06 - accuracy: 1.0000 - val_loss: 0.1508 - val_accuracy: 0.9849 - 2s/epoch - 3ms/step\n",
            "Epoch 78/100\n",
            "600/600 - 2s - loss: 1.2925e-06 - accuracy: 1.0000 - val_loss: 0.1510 - val_accuracy: 0.9848 - 2s/epoch - 3ms/step\n",
            "Epoch 79/100\n",
            "600/600 - 2s - loss: 1.0294e-06 - accuracy: 1.0000 - val_loss: 0.1514 - val_accuracy: 0.9847 - 2s/epoch - 3ms/step\n",
            "Epoch 80/100\n",
            "600/600 - 2s - loss: 8.2262e-07 - accuracy: 1.0000 - val_loss: 0.1517 - val_accuracy: 0.9847 - 2s/epoch - 4ms/step\n",
            "Epoch 81/100\n",
            "600/600 - 2s - loss: 6.5855e-07 - accuracy: 1.0000 - val_loss: 0.1520 - val_accuracy: 0.9846 - 2s/epoch - 3ms/step\n",
            "Epoch 82/100\n",
            "600/600 - 2s - loss: 5.2713e-07 - accuracy: 1.0000 - val_loss: 0.1525 - val_accuracy: 0.9846 - 2s/epoch - 3ms/step\n",
            "Epoch 83/100\n",
            "600/600 - 2s - loss: 4.2177e-07 - accuracy: 1.0000 - val_loss: 0.1530 - val_accuracy: 0.9849 - 2s/epoch - 3ms/step\n",
            "Epoch 84/100\n",
            "600/600 - 2s - loss: 3.3644e-07 - accuracy: 1.0000 - val_loss: 0.1536 - val_accuracy: 0.9851 - 2s/epoch - 3ms/step\n",
            "Epoch 85/100\n",
            "600/600 - 2s - loss: 2.6759e-07 - accuracy: 1.0000 - val_loss: 0.1543 - val_accuracy: 0.9850 - 2s/epoch - 3ms/step\n",
            "Epoch 86/100\n",
            "600/600 - 2s - loss: 2.1104e-07 - accuracy: 1.0000 - val_loss: 0.1549 - val_accuracy: 0.9852 - 2s/epoch - 4ms/step\n",
            "Epoch 87/100\n",
            "600/600 - 2s - loss: 1.6549e-07 - accuracy: 1.0000 - val_loss: 0.1558 - val_accuracy: 0.9853 - 2s/epoch - 3ms/step\n",
            "Epoch 88/100\n",
            "600/600 - 2s - loss: 1.2976e-07 - accuracy: 1.0000 - val_loss: 0.1566 - val_accuracy: 0.9854 - 2s/epoch - 3ms/step\n",
            "Epoch 89/100\n",
            "600/600 - 2s - loss: 1.0135e-07 - accuracy: 1.0000 - val_loss: 0.1574 - val_accuracy: 0.9855 - 2s/epoch - 3ms/step\n",
            "Epoch 90/100\n",
            "600/600 - 2s - loss: 7.9256e-08 - accuracy: 1.0000 - val_loss: 0.1583 - val_accuracy: 0.9855 - 2s/epoch - 3ms/step\n",
            "Epoch 91/100\n",
            "600/600 - 2s - loss: 6.1355e-08 - accuracy: 1.0000 - val_loss: 0.1591 - val_accuracy: 0.9857 - 2s/epoch - 3ms/step\n",
            "Epoch 92/100\n",
            "600/600 - 2s - loss: 4.7642e-08 - accuracy: 1.0000 - val_loss: 0.1600 - val_accuracy: 0.9858 - 2s/epoch - 3ms/step\n",
            "Epoch 93/100\n",
            "600/600 - 2s - loss: 3.6941e-08 - accuracy: 1.0000 - val_loss: 0.1608 - val_accuracy: 0.9858 - 2s/epoch - 3ms/step\n",
            "Epoch 94/100\n",
            "600/600 - 2s - loss: 2.8783e-08 - accuracy: 1.0000 - val_loss: 0.1617 - val_accuracy: 0.9858 - 2s/epoch - 3ms/step\n",
            "Epoch 95/100\n",
            "600/600 - 2s - loss: 2.2409e-08 - accuracy: 1.0000 - val_loss: 0.1627 - val_accuracy: 0.9859 - 2s/epoch - 3ms/step\n",
            "Epoch 96/100\n",
            "600/600 - 2s - loss: 1.7428e-08 - accuracy: 1.0000 - val_loss: 0.1636 - val_accuracy: 0.9859 - 2s/epoch - 3ms/step\n",
            "Epoch 97/100\n",
            "600/600 - 2s - loss: 1.3701e-08 - accuracy: 1.0000 - val_loss: 0.1645 - val_accuracy: 0.9859 - 2s/epoch - 3ms/step\n",
            "Epoch 98/100\n",
            "600/600 - 2s - loss: 1.0816e-08 - accuracy: 1.0000 - val_loss: 0.1655 - val_accuracy: 0.9860 - 2s/epoch - 3ms/step\n",
            "Epoch 99/100\n",
            "600/600 - 2s - loss: 8.6009e-09 - accuracy: 1.0000 - val_loss: 0.1663 - val_accuracy: 0.9861 - 2s/epoch - 3ms/step\n",
            "Epoch 100/100\n",
            "600/600 - 2s - loss: 6.8764e-09 - accuracy: 1.0000 - val_loss: 0.1672 - val_accuracy: 0.9861 - 2s/epoch - 4ms/step\n"
          ]
        }
      ]
    },
    {
      "cell_type": "code",
      "source": [
        "val_acc=history.history['val_accuracy']\n",
        "acc=history.history['accuracy']\n",
        "epochs=range(1,len(acc)+1)\n",
        "plt.plot(epochs,acc,'b')\n",
        "plt.plot(epochs, val_acc, 'r-')\n",
        "plt.title('Model Accuracy')\n",
        "plt.xlabel('Epochs')\n",
        "plt.ylabel('Accuracy')\n",
        "plt.legend(['Train','validation'])"
      ],
      "metadata": {
        "colab": {
          "base_uri": "https://localhost:8080/",
          "height": 312
        },
        "id": "QZSFvrpd6CDw",
        "outputId": "fe9928c8-b46f-4b8d-dbdd-8fd8807de04f"
      },
      "execution_count": null,
      "outputs": [
        {
          "output_type": "execute_result",
          "data": {
            "text/plain": [
              "<matplotlib.legend.Legend at 0x7f3e2c09e9a0>"
            ]
          },
          "metadata": {},
          "execution_count": 19
        },
        {
          "output_type": "display_data",
          "data": {
            "text/plain": [
              "<Figure size 432x288 with 1 Axes>"
            ],
            "image/png": "[encoded data removed]"
          },
          "metadata": {
            "needs_background": "light"
          }
        }
      ]
    },
    {
      "cell_type": "code",
      "source": [
        "plt.plot(history.history['loss'])\n",
        "plt.plot(history.history['val_loss'])\n",
        "plt.title(\"model loss\")\n",
        "plt.ylabel(\"loss\")\n",
        "plt.xlabel(\"epoch\")\n",
        "plt.legend(['train','validation'],loc='upper left')"
      ],
      "metadata": {
        "colab": {
          "base_uri": "https://localhost:8080/",
          "height": 312
        },
        "id": "qTNTwOyq6KSU",
        "outputId": "b54fc711-3861-4080-e29d-d4988c9efdb9"
      },
      "execution_count": null,
      "outputs": [
        {
          "output_type": "execute_result",
          "data": {
            "text/plain": [
              "<matplotlib.legend.Legend at 0x7f3d8002dc40>"
            ]
          },
          "metadata": {},
          "execution_count": 20
        },
        {
          "output_type": "display_data",
          "data": {
            "text/plain": [
              "<Figure size 432x288 with 1 Axes>"
            ],
            "image/png": "[encoded data removed]"
          },
          "metadata": {
            "needs_background": "light"
          }
        }
      ]
    },
    {
      "cell_type": "code",
      "source": [
        "model=Sequential()\n",
        "model.add(Dense(512, input_shape=(784,)))\n",
        "model.add(Activation('relu'))\n",
        "model.add(Dropout(0.2))\n",
        "\n",
        "model.add(Dense(512))\n",
        "model.add(Activation('relu'))\n",
        "model.add(Dropout(0.2))\n",
        "\n",
        "model.add(Dense(10))\n",
        "model.add(Activation('softmax'))\n"
      ],
      "metadata": {
        "id": "nM5rH8XP66mY"
      },
      "execution_count": null,
      "outputs": []
    },
    {
      "cell_type": "code",
      "source": [
        "model.compile(loss='categorical_crossentropy', metrics=['accuracy'], optimizer='adam')"
      ],
      "metadata": {
        "id": "jjS-giyn7C5z"
      },
      "execution_count": null,
      "outputs": []
    },
    {
      "cell_type": "code",
      "source": [
        "history= model.fit(x_train, y_train,\n",
        "                batch_size=100,\n",
        "                epochs=100,\n",
        "                verbose=2,\n",
        "                validation_data=(x_test,y_test))"
      ],
      "metadata": {
        "colab": {
          "base_uri": "https://localhost:8080/"
        },
        "id": "96NaQF607DQG",
        "outputId": "fe7052af-37d5-48c1-bfba-24c14035ba9c"
      },
      "execution_count": null,
      "outputs": [
        {
          "output_type": "stream",
          "name": "stdout",
          "text": [
            "Epoch 1/100\n",
            "600/600 - 3s - loss: 0.2365 - accuracy: 0.9284 - val_loss: 0.0942 - val_accuracy: 0.9720 - 3s/epoch - 5ms/step\n",
            "Epoch 2/100\n",
            "600/600 - 2s - loss: 0.0997 - accuracy: 0.9689 - val_loss: 0.0772 - val_accuracy: 0.9761 - 2s/epoch - 3ms/step\n",
            "Epoch 3/100\n",
            "600/600 - 2s - loss: 0.0727 - accuracy: 0.9773 - val_loss: 0.0790 - val_accuracy: 0.9753 - 2s/epoch - 3ms/step\n",
            "Epoch 4/100\n",
            "600/600 - 2s - loss: 0.0569 - accuracy: 0.9818 - val_loss: 0.0715 - val_accuracy: 0.9775 - 2s/epoch - 3ms/step\n",
            "Epoch 5/100\n",
            "600/600 - 2s - loss: 0.0467 - accuracy: 0.9851 - val_loss: 0.0714 - val_accuracy: 0.9786 - 2s/epoch - 3ms/step\n",
            "Epoch 6/100\n",
            "600/600 - 2s - loss: 0.0428 - accuracy: 0.9860 - val_loss: 0.0699 - val_accuracy: 0.9795 - 2s/epoch - 4ms/step\n",
            "Epoch 7/100\n",
            "600/600 - 2s - loss: 0.0353 - accuracy: 0.9883 - val_loss: 0.0722 - val_accuracy: 0.9799 - 2s/epoch - 3ms/step\n",
            "Epoch 8/100\n",
            "600/600 - 2s - loss: 0.0326 - accuracy: 0.9891 - val_loss: 0.0702 - val_accuracy: 0.9809 - 2s/epoch - 3ms/step\n",
            "Epoch 9/100\n",
            "600/600 - 2s - loss: 0.0295 - accuracy: 0.9905 - val_loss: 0.0674 - val_accuracy: 0.9803 - 2s/epoch - 3ms/step\n",
            "Epoch 10/100\n",
            "600/600 - 2s - loss: 0.0248 - accuracy: 0.9918 - val_loss: 0.0751 - val_accuracy: 0.9811 - 2s/epoch - 3ms/step\n",
            "Epoch 11/100\n",
            "600/600 - 2s - loss: 0.0249 - accuracy: 0.9916 - val_loss: 0.0652 - val_accuracy: 0.9828 - 2s/epoch - 3ms/step\n",
            "Epoch 12/100\n",
            "600/600 - 2s - loss: 0.0212 - accuracy: 0.9930 - val_loss: 0.0697 - val_accuracy: 0.9838 - 2s/epoch - 3ms/step\n",
            "Epoch 13/100\n",
            "600/600 - 2s - loss: 0.0220 - accuracy: 0.9929 - val_loss: 0.0780 - val_accuracy: 0.9813 - 2s/epoch - 4ms/step\n",
            "Epoch 14/100\n",
            "600/600 - 2s - loss: 0.0217 - accuracy: 0.9929 - val_loss: 0.0796 - val_accuracy: 0.9815 - 2s/epoch - 3ms/step\n",
            "Epoch 15/100\n",
            "600/600 - 2s - loss: 0.0184 - accuracy: 0.9937 - val_loss: 0.0759 - val_accuracy: 0.9808 - 2s/epoch - 3ms/step\n",
            "Epoch 16/100\n",
            "600/600 - 2s - loss: 0.0195 - accuracy: 0.9939 - val_loss: 0.0722 - val_accuracy: 0.9829 - 2s/epoch - 3ms/step\n",
            "Epoch 17/100\n",
            "600/600 - 2s - loss: 0.0163 - accuracy: 0.9949 - val_loss: 0.0892 - val_accuracy: 0.9809 - 2s/epoch - 3ms/step\n",
            "Epoch 18/100\n",
            "600/600 - 2s - loss: 0.0172 - accuracy: 0.9948 - val_loss: 0.0978 - val_accuracy: 0.9799 - 2s/epoch - 3ms/step\n",
            "Epoch 19/100\n",
            "600/600 - 2s - loss: 0.0179 - accuracy: 0.9944 - val_loss: 0.0786 - val_accuracy: 0.9851 - 2s/epoch - 4ms/step\n",
            "Epoch 20/100\n",
            "600/600 - 2s - loss: 0.0171 - accuracy: 0.9943 - val_loss: 0.0910 - val_accuracy: 0.9824 - 2s/epoch - 3ms/step\n",
            "Epoch 21/100\n",
            "600/600 - 2s - loss: 0.0167 - accuracy: 0.9945 - val_loss: 0.0906 - val_accuracy: 0.9834 - 2s/epoch - 3ms/step\n",
            "Epoch 22/100\n",
            "600/600 - 2s - loss: 0.0175 - accuracy: 0.9944 - val_loss: 0.0821 - val_accuracy: 0.9825 - 2s/epoch - 3ms/step\n",
            "Epoch 23/100\n",
            "600/600 - 2s - loss: 0.0128 - accuracy: 0.9961 - val_loss: 0.0900 - val_accuracy: 0.9829 - 2s/epoch - 3ms/step\n",
            "Epoch 24/100\n",
            "600/600 - 2s - loss: 0.0149 - accuracy: 0.9953 - val_loss: 0.0877 - val_accuracy: 0.9823 - 2s/epoch - 3ms/step\n",
            "Epoch 25/100\n",
            "600/600 - 2s - loss: 0.0129 - accuracy: 0.9957 - val_loss: 0.0846 - val_accuracy: 0.9837 - 2s/epoch - 3ms/step\n",
            "Epoch 26/100\n",
            "600/600 - 2s - loss: 0.0157 - accuracy: 0.9953 - val_loss: 0.0821 - val_accuracy: 0.9831 - 2s/epoch - 4ms/step\n",
            "Epoch 27/100\n",
            "600/600 - 2s - loss: 0.0118 - accuracy: 0.9963 - val_loss: 0.0995 - val_accuracy: 0.9832 - 2s/epoch - 3ms/step\n",
            "Epoch 28/100\n",
            "600/600 - 2s - loss: 0.0135 - accuracy: 0.9958 - val_loss: 0.1009 - val_accuracy: 0.9825 - 2s/epoch - 3ms/step\n",
            "Epoch 29/100\n",
            "600/600 - 2s - loss: 0.0122 - accuracy: 0.9962 - val_loss: 0.0977 - val_accuracy: 0.9823 - 2s/epoch - 3ms/step\n",
            "Epoch 30/100\n",
            "600/600 - 2s - loss: 0.0142 - accuracy: 0.9954 - val_loss: 0.0872 - val_accuracy: 0.9832 - 2s/epoch - 3ms/step\n",
            "Epoch 31/100\n",
            "600/600 - 2s - loss: 0.0140 - accuracy: 0.9957 - val_loss: 0.0929 - val_accuracy: 0.9824 - 2s/epoch - 4ms/step\n",
            "Epoch 32/100\n",
            "600/600 - 3s - loss: 0.0131 - accuracy: 0.9959 - val_loss: 0.1043 - val_accuracy: 0.9815 - 3s/epoch - 5ms/step\n",
            "Epoch 33/100\n",
            "600/600 - 2s - loss: 0.0129 - accuracy: 0.9959 - val_loss: 0.0926 - val_accuracy: 0.9834 - 2s/epoch - 3ms/step\n",
            "Epoch 34/100\n",
            "600/600 - 2s - loss: 0.0122 - accuracy: 0.9965 - val_loss: 0.0979 - val_accuracy: 0.9832 - 2s/epoch - 3ms/step\n",
            "Epoch 35/100\n",
            "600/600 - 2s - loss: 0.0101 - accuracy: 0.9967 - val_loss: 0.0989 - val_accuracy: 0.9847 - 2s/epoch - 3ms/step\n",
            "Epoch 36/100\n",
            "600/600 - 2s - loss: 0.0134 - accuracy: 0.9962 - val_loss: 0.1122 - val_accuracy: 0.9846 - 2s/epoch - 3ms/step\n",
            "Epoch 37/100\n",
            "600/600 - 2s - loss: 0.0131 - accuracy: 0.9963 - val_loss: 0.0974 - val_accuracy: 0.9853 - 2s/epoch - 3ms/step\n",
            "Epoch 38/100\n",
            "600/600 - 2s - loss: 0.0123 - accuracy: 0.9964 - val_loss: 0.0992 - val_accuracy: 0.9841 - 2s/epoch - 3ms/step\n",
            "Epoch 39/100\n",
            "600/600 - 2s - loss: 0.0128 - accuracy: 0.9964 - val_loss: 0.0991 - val_accuracy: 0.9843 - 2s/epoch - 4ms/step\n",
            "Epoch 40/100\n",
            "600/600 - 2s - loss: 0.0098 - accuracy: 0.9970 - val_loss: 0.1111 - val_accuracy: 0.9827 - 2s/epoch - 3ms/step\n",
            "Epoch 41/100\n",
            "600/600 - 2s - loss: 0.0101 - accuracy: 0.9970 - val_loss: 0.0986 - val_accuracy: 0.9848 - 2s/epoch - 3ms/step\n",
            "Epoch 42/100\n",
            "600/600 - 2s - loss: 0.0124 - accuracy: 0.9966 - val_loss: 0.1024 - val_accuracy: 0.9822 - 2s/epoch - 3ms/step\n",
            "Epoch 43/100\n",
            "600/600 - 2s - loss: 0.0101 - accuracy: 0.9972 - val_loss: 0.1048 - val_accuracy: 0.9837 - 2s/epoch - 3ms/step\n",
            "Epoch 44/100\n",
            "600/600 - 2s - loss: 0.0133 - accuracy: 0.9967 - val_loss: 0.1013 - val_accuracy: 0.9842 - 2s/epoch - 3ms/step\n",
            "Epoch 45/100\n",
            "600/600 - 2s - loss: 0.0109 - accuracy: 0.9967 - val_loss: 0.1203 - val_accuracy: 0.9833 - 2s/epoch - 4ms/step\n",
            "Epoch 46/100\n",
            "600/600 - 2s - loss: 0.0106 - accuracy: 0.9967 - val_loss: 0.1186 - val_accuracy: 0.9837 - 2s/epoch - 3ms/step\n",
            "Epoch 47/100\n",
            "600/600 - 2s - loss: 0.0097 - accuracy: 0.9972 - val_loss: 0.1139 - val_accuracy: 0.9831 - 2s/epoch - 3ms/step\n",
            "Epoch 48/100\n",
            "600/600 - 2s - loss: 0.0106 - accuracy: 0.9968 - val_loss: 0.1267 - val_accuracy: 0.9831 - 2s/epoch - 3ms/step\n",
            "Epoch 49/100\n",
            "600/600 - 2s - loss: 0.0118 - accuracy: 0.9969 - val_loss: 0.1113 - val_accuracy: 0.9840 - 2s/epoch - 3ms/step\n",
            "Epoch 50/100\n",
            "600/600 - 2s - loss: 0.0106 - accuracy: 0.9972 - val_loss: 0.1146 - val_accuracy: 0.9849 - 2s/epoch - 3ms/step\n",
            "Epoch 51/100\n",
            "600/600 - 2s - loss: 0.0124 - accuracy: 0.9971 - val_loss: 0.1298 - val_accuracy: 0.9839 - 2s/epoch - 3ms/step\n",
            "Epoch 52/100\n",
            "600/600 - 2s - loss: 0.0131 - accuracy: 0.9968 - val_loss: 0.1346 - val_accuracy: 0.9825 - 2s/epoch - 4ms/step\n",
            "Epoch 53/100\n",
            "600/600 - 2s - loss: 0.0117 - accuracy: 0.9968 - val_loss: 0.1002 - val_accuracy: 0.9861 - 2s/epoch - 3ms/step\n",
            "Epoch 54/100\n",
            "600/600 - 2s - loss: 0.0087 - accuracy: 0.9975 - val_loss: 0.1007 - val_accuracy: 0.9864 - 2s/epoch - 3ms/step\n",
            "Epoch 55/100\n",
            "600/600 - 2s - loss: 0.0080 - accuracy: 0.9977 - val_loss: 0.1191 - val_accuracy: 0.9845 - 2s/epoch - 3ms/step\n",
            "Epoch 56/100\n",
            "600/600 - 2s - loss: 0.0100 - accuracy: 0.9972 - val_loss: 0.1080 - val_accuracy: 0.9853 - 2s/epoch - 3ms/step\n",
            "Epoch 57/100\n",
            "600/600 - 2s - loss: 0.0104 - accuracy: 0.9972 - val_loss: 0.1297 - val_accuracy: 0.9814 - 2s/epoch - 3ms/step\n",
            "Epoch 58/100\n",
            "600/600 - 2s - loss: 0.0130 - accuracy: 0.9967 - val_loss: 0.1231 - val_accuracy: 0.9849 - 2s/epoch - 4ms/step\n",
            "Epoch 59/100\n",
            "600/600 - 2s - loss: 0.0087 - accuracy: 0.9976 - val_loss: 0.1150 - val_accuracy: 0.9857 - 2s/epoch - 3ms/step\n",
            "Epoch 60/100\n",
            "600/600 - 2s - loss: 0.0087 - accuracy: 0.9976 - val_loss: 0.1143 - val_accuracy: 0.9843 - 2s/epoch - 3ms/step\n",
            "Epoch 61/100\n",
            "600/600 - 2s - loss: 0.0107 - accuracy: 0.9972 - val_loss: 0.1237 - val_accuracy: 0.9863 - 2s/epoch - 3ms/step\n",
            "Epoch 62/100\n",
            "600/600 - 2s - loss: 0.0119 - accuracy: 0.9970 - val_loss: 0.1237 - val_accuracy: 0.9863 - 2s/epoch - 3ms/step\n",
            "Epoch 63/100\n",
            "600/600 - 2s - loss: 0.0088 - accuracy: 0.9977 - val_loss: 0.1283 - val_accuracy: 0.9833 - 2s/epoch - 3ms/step\n",
            "Epoch 64/100\n",
            "600/600 - 2s - loss: 0.0105 - accuracy: 0.9972 - val_loss: 0.1366 - val_accuracy: 0.9839 - 2s/epoch - 3ms/step\n",
            "Epoch 65/100\n",
            "600/600 - 2s - loss: 0.0088 - accuracy: 0.9978 - val_loss: 0.1224 - val_accuracy: 0.9844 - 2s/epoch - 4ms/step\n",
            "Epoch 66/100\n",
            "600/600 - 2s - loss: 0.0074 - accuracy: 0.9979 - val_loss: 0.1211 - val_accuracy: 0.9853 - 2s/epoch - 3ms/step\n",
            "Epoch 67/100\n",
            "600/600 - 2s - loss: 0.0089 - accuracy: 0.9977 - val_loss: 0.1408 - val_accuracy: 0.9850 - 2s/epoch - 3ms/step\n",
            "Epoch 68/100\n",
            "600/600 - 2s - loss: 0.0125 - accuracy: 0.9969 - val_loss: 0.1550 - val_accuracy: 0.9821 - 2s/epoch - 3ms/step\n",
            "Epoch 69/100\n",
            "600/600 - 2s - loss: 0.0106 - accuracy: 0.9975 - val_loss: 0.1191 - val_accuracy: 0.9854 - 2s/epoch - 3ms/step\n",
            "Epoch 70/100\n",
            "600/600 - 2s - loss: 0.0066 - accuracy: 0.9981 - val_loss: 0.1458 - val_accuracy: 0.9829 - 2s/epoch - 3ms/step\n",
            "Epoch 71/100\n",
            "600/600 - 2s - loss: 0.0107 - accuracy: 0.9970 - val_loss: 0.1205 - val_accuracy: 0.9853 - 2s/epoch - 3ms/step\n",
            "Epoch 72/100\n",
            "600/600 - 2s - loss: 0.0108 - accuracy: 0.9973 - val_loss: 0.1260 - val_accuracy: 0.9858 - 2s/epoch - 4ms/step\n",
            "Epoch 73/100\n",
            "600/600 - 2s - loss: 0.0085 - accuracy: 0.9980 - val_loss: 0.1170 - val_accuracy: 0.9865 - 2s/epoch - 3ms/step\n",
            "Epoch 74/100\n",
            "600/600 - 2s - loss: 0.0098 - accuracy: 0.9975 - val_loss: 0.1304 - val_accuracy: 0.9842 - 2s/epoch - 3ms/step\n",
            "Epoch 75/100\n",
            "600/600 - 2s - loss: 0.0093 - accuracy: 0.9978 - val_loss: 0.1493 - val_accuracy: 0.9824 - 2s/epoch - 3ms/step\n",
            "Epoch 76/100\n",
            "600/600 - 2s - loss: 0.0099 - accuracy: 0.9975 - val_loss: 0.1290 - val_accuracy: 0.9849 - 2s/epoch - 3ms/step\n",
            "Epoch 77/100\n",
            "600/600 - 2s - loss: 0.0067 - accuracy: 0.9984 - val_loss: 0.1285 - val_accuracy: 0.9853 - 2s/epoch - 3ms/step\n",
            "Epoch 78/100\n",
            "600/600 - 2s - loss: 0.0082 - accuracy: 0.9981 - val_loss: 0.1459 - val_accuracy: 0.9832 - 2s/epoch - 4ms/step\n",
            "Epoch 79/100\n",
            "600/600 - 2s - loss: 0.0091 - accuracy: 0.9977 - val_loss: 0.1401 - val_accuracy: 0.9839 - 2s/epoch - 3ms/step\n",
            "Epoch 80/100\n",
            "600/600 - 2s - loss: 0.0121 - accuracy: 0.9975 - val_loss: 0.1340 - val_accuracy: 0.9839 - 2s/epoch - 3ms/step\n",
            "Epoch 81/100\n",
            "600/600 - 2s - loss: 0.0080 - accuracy: 0.9979 - val_loss: 0.1448 - val_accuracy: 0.9853 - 2s/epoch - 3ms/step\n",
            "Epoch 82/100\n",
            "600/600 - 2s - loss: 0.0080 - accuracy: 0.9980 - val_loss: 0.1397 - val_accuracy: 0.9853 - 2s/epoch - 3ms/step\n",
            "Epoch 83/100\n",
            "600/600 - 2s - loss: 0.0099 - accuracy: 0.9980 - val_loss: 0.1449 - val_accuracy: 0.9849 - 2s/epoch - 3ms/step\n",
            "Epoch 84/100\n",
            "600/600 - 2s - loss: 0.0094 - accuracy: 0.9979 - val_loss: 0.1416 - val_accuracy: 0.9856 - 2s/epoch - 3ms/step\n",
            "Epoch 85/100\n",
            "600/600 - 2s - loss: 0.0101 - accuracy: 0.9976 - val_loss: 0.1434 - val_accuracy: 0.9863 - 2s/epoch - 4ms/step\n",
            "Epoch 86/100\n",
            "600/600 - 2s - loss: 0.0097 - accuracy: 0.9979 - val_loss: 0.1442 - val_accuracy: 0.9852 - 2s/epoch - 3ms/step\n",
            "Epoch 87/100\n",
            "600/600 - 2s - loss: 0.0065 - accuracy: 0.9983 - val_loss: 0.1357 - val_accuracy: 0.9872 - 2s/epoch - 3ms/step\n",
            "Epoch 88/100\n",
            "600/600 - 2s - loss: 0.0092 - accuracy: 0.9980 - val_loss: 0.1412 - val_accuracy: 0.9849 - 2s/epoch - 3ms/step\n",
            "Epoch 89/100\n",
            "600/600 - 2s - loss: 0.0109 - accuracy: 0.9977 - val_loss: 0.1331 - val_accuracy: 0.9856 - 2s/epoch - 3ms/step\n",
            "Epoch 90/100\n",
            "600/600 - 2s - loss: 0.0096 - accuracy: 0.9976 - val_loss: 0.1350 - val_accuracy: 0.9870 - 2s/epoch - 3ms/step\n",
            "Epoch 91/100\n",
            "600/600 - 2s - loss: 0.0087 - accuracy: 0.9980 - val_loss: 0.1508 - val_accuracy: 0.9857 - 2s/epoch - 4ms/step\n",
            "Epoch 92/100\n",
            "600/600 - 2s - loss: 0.0071 - accuracy: 0.9983 - val_loss: 0.1712 - val_accuracy: 0.9830 - 2s/epoch - 3ms/step\n",
            "Epoch 93/100\n",
            "600/600 - 2s - loss: 0.0079 - accuracy: 0.9980 - val_loss: 0.1787 - val_accuracy: 0.9839 - 2s/epoch - 3ms/step\n",
            "Epoch 94/100\n",
            "600/600 - 2s - loss: 0.0069 - accuracy: 0.9982 - val_loss: 0.1781 - val_accuracy: 0.9849 - 2s/epoch - 3ms/step\n",
            "Epoch 95/100\n",
            "600/600 - 2s - loss: 0.0132 - accuracy: 0.9977 - val_loss: 0.1885 - val_accuracy: 0.9838 - 2s/epoch - 3ms/step\n",
            "Epoch 96/100\n",
            "600/600 - 2s - loss: 0.0093 - accuracy: 0.9980 - val_loss: 0.1855 - val_accuracy: 0.9844 - 2s/epoch - 3ms/step\n",
            "Epoch 97/100\n",
            "600/600 - 2s - loss: 0.0109 - accuracy: 0.9978 - val_loss: 0.1764 - val_accuracy: 0.9840 - 2s/epoch - 3ms/step\n",
            "Epoch 98/100\n",
            "600/600 - 2s - loss: 0.0093 - accuracy: 0.9979 - val_loss: 0.1589 - val_accuracy: 0.9849 - 2s/epoch - 4ms/step\n",
            "Epoch 99/100\n",
            "600/600 - 2s - loss: 0.0080 - accuracy: 0.9981 - val_loss: 0.1705 - val_accuracy: 0.9848 - 2s/epoch - 3ms/step\n",
            "Epoch 100/100\n",
            "600/600 - 2s - loss: 0.0084 - accuracy: 0.9982 - val_loss: 0.1533 - val_accuracy: 0.9844 - 2s/epoch - 3ms/step\n"
          ]
        }
      ]
    },
    {
      "cell_type": "code",
      "source": [
        "val_acc=history.history['val_accuracy']\n",
        "acc=history.history['accuracy']\n",
        "epochs=range(1,len(acc)+1)\n",
        "plt.plot(epochs,acc,'b')\n",
        "plt.plot(epochs, val_acc, 'r-')\n",
        "plt.title('Model Accuracy')\n",
        "plt.xlabel('Epochs')\n",
        "plt.ylabel('Accuracy')\n",
        "plt.legend(['Train','validation'])"
      ],
      "metadata": {
        "colab": {
          "base_uri": "https://localhost:8080/",
          "height": 312
        },
        "id": "BImLxOFt7GQ_",
        "outputId": "418470d5-cacf-4a96-8352-e4b12d7c4ec4"
      },
      "execution_count": null,
      "outputs": [
        {
          "output_type": "execute_result",
          "data": {
            "text/plain": [
              "<matplotlib.legend.Legend at 0x7f3d046fb370>"
            ]
          },
          "metadata": {},
          "execution_count": 28
        },
        {
          "output_type": "display_data",
          "data": {
            "text/plain": [
              "<Figure size 432x288 with 1 Axes>"
            ],
            "image/png": "[encoded data removed]"
          },
          "metadata": {
            "needs_background": "light"
          }
        }
      ]
    },
    {
      "cell_type": "code",
      "source": [
        "plt.plot(history.history['loss'])\n",
        "plt.plot(history.history['val_loss'])\n",
        "plt.title(\"model loss\")\n",
        "plt.ylabel(\"loss\")\n",
        "plt.xlabel(\"epoch\")\n",
        "plt.legend(['train','validation'],loc='upper left')"
      ],
      "metadata": {
        "colab": {
          "base_uri": "https://localhost:8080/",
          "height": 312
        },
        "id": "1i8epo168q27",
        "outputId": "941e93a2-dbc9-444d-ca0c-dc2449166779"
      },
      "execution_count": null,
      "outputs": [
        {
          "output_type": "execute_result",
          "data": {
            "text/plain": [
              "<matplotlib.legend.Legend at 0x7f3d1b51e220>"
            ]
          },
          "metadata": {},
          "execution_count": 29
        },
        {
          "output_type": "display_data",
          "data": {
            "text/plain": [
              "<Figure size 432x288 with 1 Axes>"
            ],
            "image/png": "[encoded data removed]"
          },
          "metadata": {
            "needs_background": "light"
          }
        }
      ]
    },
    {
      "cell_type": "code",
      "source": [
        "model.summary()"
      ],
      "metadata": {
        "colab": {
          "base_uri": "https://localhost:8080/"
        },
        "id": "vycnBiEy819f",
        "outputId": "b393427c-dbb9-45ec-ffc9-afdecd69eb9b"
      },
      "execution_count": null,
      "outputs": [
        {
          "output_type": "stream",
          "name": "stdout",
          "text": [
            "Model: \"sequential_2\"\n",
            "_________________________________________________________________\n",
            " Layer (type)                Output Shape              Param #   \n",
            "=================================================================\n",
            " dense_6 (Dense)             (None, 512)               401920    \n",
            "                                                                 \n",
            " activation_6 (Activation)   (None, 512)               0         \n",
            "                                                                 \n",
            " dropout_3 (Dropout)         (None, 512)               0         \n",
            "                                                                 \n",
            " dense_7 (Dense)             (None, 512)               262656    \n",
            "                                                                 \n",
            " activation_7 (Activation)   (None, 512)               0         \n",
            "                                                                 \n",
            " dropout_4 (Dropout)         (None, 512)               0         \n",
            "                                                                 \n",
            " dense_8 (Dense)             (None, 10)                5130      \n",
            "                                                                 \n",
            " activation_8 (Activation)   (None, 10)                0         \n",
            "                                                                 \n",
            "=================================================================\n",
            "Total params: 669,706\n",
            "Trainable params: 669,706\n",
            "Non-trainable params: 0\n",
            "_________________________________________________________________\n"
          ]
        }
      ]
    },
    {
      "cell_type": "markdown",
      "source": [
        "comparer les 10 premier\n",
        "crer un optimizer personnaliser\n",
        "modifier dropout\n",
        "optimiser le modele par le changements des hyper parametres"
      ],
      "metadata": {
        "id": "mZA5oWA8-FS5"
      }
    },
    {
      "cell_type": "code",
      "source": [
        "model2=Sequential()\n",
        "model2.add(Dense(512, input_shape=(784,)))\n",
        "model2.add(Activation('relu'))\n",
        "model2.add(Dropout(0.5))\n",
        "model2.add(Dense(512))\n",
        "model2.add(Activation('relu'))\n",
        "model2.add(Dropout(0.5))\n",
        "model2.add(Dense(10))\n",
        "model2.add(Activation('softmax'))\n",
        "adam=tf.keras.optimizers.Adam(learning_rate=0.0001)\n",
        "model2.compile(loss='categorical_crossentropy', metrics=['accuracy'], optimizer=adam)"
      ],
      "metadata": {
        "id": "hXWQ_kMc83qz"
      },
      "execution_count": 17,
      "outputs": []
    },
    {
      "cell_type": "code",
      "source": [
        "history2 = model2.fit(x_train, y_train,\n",
        "                    batch_size=128,\n",
        "                    epochs=50,\n",
        "                    verbose=2,\n",
        "                    validation_data=(x_test, y_test))"
      ],
      "metadata": {
        "colab": {
          "base_uri": "https://localhost:8080/"
        },
        "id": "GNsVf7XTx9sB",
        "outputId": "184d9f6a-e38a-47ec-9fd1-bb3508dc3ffe"
      },
      "execution_count": 18,
      "outputs": [
        {
          "output_type": "stream",
          "name": "stdout",
          "text": [
            "Epoch 1/50\n",
            "469/469 - 4s - loss: 0.8930 - accuracy: 0.7276 - val_loss: 0.3102 - val_accuracy: 0.9149 - 4s/epoch - 9ms/step\n",
            "Epoch 2/50\n",
            "469/469 - 2s - loss: 0.3794 - accuracy: 0.8861 - val_loss: 0.2307 - val_accuracy: 0.9315 - 2s/epoch - 5ms/step\n",
            "Epoch 3/50\n",
            "469/469 - 2s - loss: 0.2937 - accuracy: 0.9129 - val_loss: 0.1858 - val_accuracy: 0.9445 - 2s/epoch - 4ms/step\n",
            "Epoch 4/50\n",
            "469/469 - 2s - loss: 0.2434 - accuracy: 0.9272 - val_loss: 0.1576 - val_accuracy: 0.9538 - 2s/epoch - 4ms/step\n",
            "Epoch 5/50\n",
            "469/469 - 2s - loss: 0.2098 - accuracy: 0.9383 - val_loss: 0.1382 - val_accuracy: 0.9581 - 2s/epoch - 4ms/step\n",
            "Epoch 6/50\n",
            "469/469 - 2s - loss: 0.1863 - accuracy: 0.9445 - val_loss: 0.1241 - val_accuracy: 0.9614 - 2s/epoch - 4ms/step\n",
            "Epoch 7/50\n",
            "469/469 - 2s - loss: 0.1658 - accuracy: 0.9518 - val_loss: 0.1124 - val_accuracy: 0.9655 - 2s/epoch - 4ms/step\n",
            "Epoch 8/50\n",
            "469/469 - 2s - loss: 0.1532 - accuracy: 0.9549 - val_loss: 0.1047 - val_accuracy: 0.9683 - 2s/epoch - 4ms/step\n",
            "Epoch 9/50\n",
            "469/469 - 2s - loss: 0.1380 - accuracy: 0.9588 - val_loss: 0.0968 - val_accuracy: 0.9696 - 2s/epoch - 5ms/step\n",
            "Epoch 10/50\n",
            "469/469 - 2s - loss: 0.1272 - accuracy: 0.9624 - val_loss: 0.0908 - val_accuracy: 0.9725 - 2s/epoch - 4ms/step\n",
            "Epoch 11/50\n",
            "469/469 - 2s - loss: 0.1175 - accuracy: 0.9647 - val_loss: 0.0859 - val_accuracy: 0.9729 - 2s/epoch - 4ms/step\n",
            "Epoch 12/50\n",
            "469/469 - 2s - loss: 0.1101 - accuracy: 0.9665 - val_loss: 0.0807 - val_accuracy: 0.9750 - 2s/epoch - 4ms/step\n",
            "Epoch 13/50\n",
            "469/469 - 2s - loss: 0.1013 - accuracy: 0.9693 - val_loss: 0.0772 - val_accuracy: 0.9762 - 2s/epoch - 4ms/step\n",
            "Epoch 14/50\n",
            "469/469 - 2s - loss: 0.0942 - accuracy: 0.9710 - val_loss: 0.0756 - val_accuracy: 0.9766 - 2s/epoch - 4ms/step\n",
            "Epoch 15/50\n",
            "469/469 - 2s - loss: 0.0909 - accuracy: 0.9721 - val_loss: 0.0705 - val_accuracy: 0.9780 - 2s/epoch - 5ms/step\n",
            "Epoch 16/50\n",
            "469/469 - 2s - loss: 0.0846 - accuracy: 0.9750 - val_loss: 0.0697 - val_accuracy: 0.9784 - 2s/epoch - 4ms/step\n",
            "Epoch 17/50\n",
            "469/469 - 2s - loss: 0.0801 - accuracy: 0.9753 - val_loss: 0.0677 - val_accuracy: 0.9788 - 2s/epoch - 4ms/step\n",
            "Epoch 18/50\n",
            "469/469 - 2s - loss: 0.0764 - accuracy: 0.9765 - val_loss: 0.0662 - val_accuracy: 0.9804 - 2s/epoch - 4ms/step\n",
            "Epoch 19/50\n",
            "469/469 - 2s - loss: 0.0718 - accuracy: 0.9779 - val_loss: 0.0654 - val_accuracy: 0.9800 - 2s/epoch - 4ms/step\n",
            "Epoch 20/50\n",
            "469/469 - 2s - loss: 0.0671 - accuracy: 0.9793 - val_loss: 0.0650 - val_accuracy: 0.9796 - 2s/epoch - 4ms/step\n",
            "Epoch 21/50\n",
            "469/469 - 2s - loss: 0.0672 - accuracy: 0.9790 - val_loss: 0.0645 - val_accuracy: 0.9810 - 2s/epoch - 5ms/step\n",
            "Epoch 22/50\n",
            "469/469 - 2s - loss: 0.0628 - accuracy: 0.9803 - val_loss: 0.0626 - val_accuracy: 0.9809 - 2s/epoch - 5ms/step\n",
            "Epoch 23/50\n",
            "469/469 - 2s - loss: 0.0587 - accuracy: 0.9821 - val_loss: 0.0624 - val_accuracy: 0.9810 - 2s/epoch - 4ms/step\n",
            "Epoch 24/50\n",
            "469/469 - 2s - loss: 0.0572 - accuracy: 0.9818 - val_loss: 0.0630 - val_accuracy: 0.9801 - 2s/epoch - 5ms/step\n",
            "Epoch 25/50\n",
            "469/469 - 2s - loss: 0.0534 - accuracy: 0.9830 - val_loss: 0.0592 - val_accuracy: 0.9819 - 2s/epoch - 4ms/step\n",
            "Epoch 26/50\n",
            "469/469 - 2s - loss: 0.0510 - accuracy: 0.9835 - val_loss: 0.0589 - val_accuracy: 0.9823 - 2s/epoch - 4ms/step\n",
            "Epoch 27/50\n",
            "469/469 - 2s - loss: 0.0502 - accuracy: 0.9837 - val_loss: 0.0602 - val_accuracy: 0.9823 - 2s/epoch - 4ms/step\n",
            "Epoch 28/50\n",
            "469/469 - 2s - loss: 0.0459 - accuracy: 0.9853 - val_loss: 0.0587 - val_accuracy: 0.9812 - 2s/epoch - 5ms/step\n",
            "Epoch 29/50\n",
            "469/469 - 2s - loss: 0.0474 - accuracy: 0.9846 - val_loss: 0.0600 - val_accuracy: 0.9819 - 2s/epoch - 4ms/step\n",
            "Epoch 30/50\n",
            "469/469 - 2s - loss: 0.0438 - accuracy: 0.9861 - val_loss: 0.0586 - val_accuracy: 0.9820 - 2s/epoch - 4ms/step\n",
            "Epoch 31/50\n",
            "469/469 - 2s - loss: 0.0421 - accuracy: 0.9867 - val_loss: 0.0582 - val_accuracy: 0.9823 - 2s/epoch - 4ms/step\n",
            "Epoch 32/50\n",
            "469/469 - 2s - loss: 0.0396 - accuracy: 0.9872 - val_loss: 0.0588 - val_accuracy: 0.9830 - 2s/epoch - 4ms/step\n",
            "Epoch 33/50\n",
            "469/469 - 2s - loss: 0.0393 - accuracy: 0.9877 - val_loss: 0.0582 - val_accuracy: 0.9821 - 2s/epoch - 4ms/step\n",
            "Epoch 34/50\n",
            "469/469 - 2s - loss: 0.0358 - accuracy: 0.9886 - val_loss: 0.0586 - val_accuracy: 0.9826 - 2s/epoch - 4ms/step\n",
            "Epoch 35/50\n",
            "469/469 - 2s - loss: 0.0350 - accuracy: 0.9890 - val_loss: 0.0600 - val_accuracy: 0.9836 - 2s/epoch - 5ms/step\n",
            "Epoch 36/50\n",
            "469/469 - 2s - loss: 0.0343 - accuracy: 0.9891 - val_loss: 0.0575 - val_accuracy: 0.9838 - 2s/epoch - 4ms/step\n",
            "Epoch 37/50\n",
            "469/469 - 2s - loss: 0.0334 - accuracy: 0.9894 - val_loss: 0.0584 - val_accuracy: 0.9831 - 2s/epoch - 4ms/step\n",
            "Epoch 38/50\n",
            "469/469 - 2s - loss: 0.0319 - accuracy: 0.9897 - val_loss: 0.0596 - val_accuracy: 0.9832 - 2s/epoch - 4ms/step\n",
            "Epoch 39/50\n",
            "469/469 - 2s - loss: 0.0315 - accuracy: 0.9901 - val_loss: 0.0595 - val_accuracy: 0.9829 - 2s/epoch - 4ms/step\n",
            "Epoch 40/50\n",
            "469/469 - 2s - loss: 0.0305 - accuracy: 0.9903 - val_loss: 0.0580 - val_accuracy: 0.9837 - 2s/epoch - 4ms/step\n",
            "Epoch 41/50\n",
            "469/469 - 2s - loss: 0.0302 - accuracy: 0.9902 - val_loss: 0.0589 - val_accuracy: 0.9838 - 2s/epoch - 4ms/step\n",
            "Epoch 42/50\n",
            "469/469 - 2s - loss: 0.0279 - accuracy: 0.9906 - val_loss: 0.0585 - val_accuracy: 0.9834 - 2s/epoch - 5ms/step\n",
            "Epoch 43/50\n",
            "469/469 - 2s - loss: 0.0282 - accuracy: 0.9908 - val_loss: 0.0595 - val_accuracy: 0.9841 - 2s/epoch - 4ms/step\n",
            "Epoch 44/50\n",
            "469/469 - 2s - loss: 0.0273 - accuracy: 0.9911 - val_loss: 0.0594 - val_accuracy: 0.9834 - 2s/epoch - 4ms/step\n",
            "Epoch 45/50\n",
            "469/469 - 2s - loss: 0.0269 - accuracy: 0.9911 - val_loss: 0.0618 - val_accuracy: 0.9832 - 2s/epoch - 4ms/step\n",
            "Epoch 46/50\n",
            "469/469 - 2s - loss: 0.0260 - accuracy: 0.9913 - val_loss: 0.0583 - val_accuracy: 0.9840 - 2s/epoch - 4ms/step\n",
            "Epoch 47/50\n",
            "469/469 - 2s - loss: 0.0254 - accuracy: 0.9918 - val_loss: 0.0607 - val_accuracy: 0.9833 - 2s/epoch - 4ms/step\n",
            "Epoch 48/50\n",
            "469/469 - 2s - loss: 0.0234 - accuracy: 0.9924 - val_loss: 0.0607 - val_accuracy: 0.9843 - 2s/epoch - 5ms/step\n",
            "Epoch 49/50\n",
            "469/469 - 2s - loss: 0.0236 - accuracy: 0.9922 - val_loss: 0.0592 - val_accuracy: 0.9841 - 2s/epoch - 4ms/step\n",
            "Epoch 50/50\n",
            "469/469 - 2s - loss: 0.0223 - accuracy: 0.9926 - val_loss: 0.0614 - val_accuracy: 0.9837 - 2s/epoch - 4ms/step\n"
          ]
        }
      ]
    },
    {
      "cell_type": "code",
      "source": [
        "model2.evaluate(x_test,y_test)"
      ],
      "metadata": {
        "colab": {
          "base_uri": "https://localhost:8080/"
        },
        "id": "Hpp8Ra223zkZ",
        "outputId": "ede2a1b1-6701-41f7-abea-d18f62eeaf2d"
      },
      "execution_count": 19,
      "outputs": [
        {
          "output_type": "stream",
          "name": "stdout",
          "text": [
            "313/313 [==============================] - 1s 3ms/step - loss: 0.0614 - accuracy: 0.9837\n"
          ]
        },
        {
          "output_type": "execute_result",
          "data": {
            "text/plain": [
              "[0.06141490489244461, 0.9836999773979187]"
            ]
          },
          "metadata": {},
          "execution_count": 19
        }
      ]
    },
    {
      "cell_type": "code",
      "source": [
        "plot_accuracy_and_loss(history2)"
      ],
      "metadata": {
        "colab": {
          "base_uri": "https://localhost:8080/",
          "height": 350
        },
        "id": "KOlwSUnM-vJI",
        "outputId": "034f39b1-4469-4a09-b64d-ae8aa0a8c5a9"
      },
      "execution_count": 27,
      "outputs": [
        {
          "output_type": "display_data",
          "data": {
            "text/plain": [
              "<Figure size 1080x360 with 2 Axes>"
            ],
            "image/png": "[encoded data removed]"
          },
          "metadata": {
            "needs_background": "light"
          }
        }
      ]
    },
    {
      "cell_type": "code",
      "source": [
        "predictions = model2.predict(x_test[:10])\n",
        "predicted_labels = np.argmax(predictions, axis=1)\n",
        "\n",
        "for i in range(10):\n",
        "    image = x_test[i].reshape(28,28)\n",
        "    predicted_label = predicted_labels[i]\n",
        "    actual_label = y_test[i]\n",
        "    print(f\"Image {i+1}: Predicted label: {predicted_label}, Actual label: {np.argmax(actual_label, axis=0)}\")\n",
        "    plt.imshow(image, cmap='gray')\n",
        "    plt.show()"
      ],
      "metadata": {
        "colab": {
          "base_uri": "https://localhost:8080/",
          "height": 1000
        },
        "id": "HWwvDuq5zS2N",
        "outputId": "944323c4-cf39-4c95-be54-d536c4ca9176"
      },
      "execution_count": 23,
      "outputs": [
        {
          "output_type": "stream",
          "name": "stdout",
          "text": [
            "1/1 [==============================] - 0s 117ms/step\n",
            "Image 1: Predicted label: 7, Actual label: 7\n"
          ]
        },
        {
          "output_type": "display_data",
          "data": {
            "text/plain": [
              "<Figure size 432x288 with 1 Axes>"
            ],
            "image/png": "[encoded data removed]"
          },
          "metadata": {
            "needs_background": "light"
          }
        },
        {
          "output_type": "stream",
          "name": "stdout",
          "text": [
            "Image 2: Predicted label: 2, Actual label: 2\n"
          ]
        },
        {
          "output_type": "display_data",
          "data": {
            "text/plain": [
              "<Figure size 432x288 with 1 Axes>"
            ],
            "image/png": "[encoded data removed]"
          },
          "metadata": {
            "needs_background": "light"
          }
        },
        {
          "output_type": "stream",
          "name": "stdout",
          "text": [
            "Image 3: Predicted label: 1, Actual label: 1\n"
          ]
        },
        {
          "output_type": "display_data",
          "data": {
            "text/plain": [
              "<Figure size 432x288 with 1 Axes>"
            ],
            "image/png": "[encoded data removed]"
          },
          "metadata": {
            "needs_background": "light"
          }
        },
        {
          "output_type": "stream",
          "name": "stdout",
          "text": [
            "Image 4: Predicted label: 0, Actual label: 0\n"
          ]
        },
        {
          "output_type": "display_data",
          "data": {
            "text/plain": [
              "<Figure size 432x288 with 1 Axes>"
            ],
            "image/png": "[encoded data removed]"
          },
          "metadata": {
            "needs_background": "light"
          }
        },
        {
          "output_type": "stream",
          "name": "stdout",
          "text": [
            "Image 5: Predicted label: 4, Actual label: 4\n"
          ]
        },
        {
          "output_type": "display_data",
          "data": {
            "text/plain": [
              "<Figure size 432x288 with 1 Axes>"
            ],
            "image/png": "[encoded data removed]"
          },
          "metadata": {
            "needs_background": "light"
          }
        },
        {
          "output_type": "stream",
          "name": "stdout",
          "text": [
            "Image 6: Predicted label: 1, Actual label: 1\n"
          ]
        },
        {
          "output_type": "display_data",
          "data": {
            "text/plain": [
              "<Figure size 432x288 with 1 Axes>"
            ],
            "image/png": "[encoded data removed]"
          },
          "metadata": {
            "needs_background": "light"
          }
        },
        {
          "output_type": "stream",
          "name": "stdout",
          "text": [
            "Image 7: Predicted label: 4, Actual label: 4\n"
          ]
        },
        {
          "output_type": "display_data",
          "data": {
            "text/plain": [
              "<Figure size 432x288 with 1 Axes>"
            ],
            "image/png": "[encoded data removed]"
          },
          "metadata": {
            "needs_background": "light"
          }
        },
        {
          "output_type": "stream",
          "name": "stdout",
          "text": [
            "Image 8: Predicted label: 9, Actual label: 9\n"
          ]
        },
        {
          "output_type": "display_data",
          "data": {
            "text/plain": [
              "<Figure size 432x288 with 1 Axes>"
            ],
            "image/png": "[encoded data removed]"
          },
          "metadata": {
            "needs_background": "light"
          }
        },
        {
          "output_type": "stream",
          "name": "stdout",
          "text": [
            "Image 9: Predicted label: 5, Actual label: 5\n"
          ]
        },
        {
          "output_type": "display_data",
          "data": {
            "text/plain": [
              "<Figure size 432x288 with 1 Axes>"
            ],
            "image/png": "[encoded data removed]"
          },
          "metadata": {
            "needs_background": "light"
          }
        },
        {
          "output_type": "stream",
          "name": "stdout",
          "text": [
            "Image 10: Predicted label: 9, Actual label: 9\n"
          ]
        },
        {
          "output_type": "display_data",
          "data": {
            "text/plain": [
              "<Figure size 432x288 with 1 Axes>"
            ],
            "image/png": "[encoded data removed]"
          },
          "metadata": {
            "needs_background": "light"
          }
        }
      ]
    },
    {
      "cell_type": "code",
      "source": [
        "plot_conf_matrix(model2.predict(x_test),y_test)"
      ],
      "metadata": {
        "colab": {
          "base_uri": "https://localhost:8080/",
          "height": 623
        },
        "id": "RI_mp1tv8-AD",
        "outputId": "8741d3e6-8e63-4c58-8e05-984472a96854"
      },
      "execution_count": 24,
      "outputs": [
        {
          "output_type": "stream",
          "name": "stdout",
          "text": [
            "313/313 [==============================] - 1s 2ms/step\n"
          ]
        },
        {
          "output_type": "display_data",
          "data": {
            "text/plain": [
              "<Figure size 720x720 with 2 Axes>"
            ],
            "image/png": "[encoded data removed]"
          },
          "metadata": {
            "needs_background": "light"
          }
        }
      ]
    }
  ]
}